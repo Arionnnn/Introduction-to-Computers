{
  "nbformat": 4,
  "nbformat_minor": 0,
  "metadata": {
    "colab": {
      "provenance": [],
      "authorship_tag": "ABX9TyOY036f+PVW0+RNslxE3NVD",
      "include_colab_link": true
    },
    "kernelspec": {
      "name": "python3",
      "display_name": "Python 3"
    },
    "language_info": {
      "name": "python"
    }
  },
  "cells": [
    {
      "cell_type": "markdown",
      "metadata": {
        "id": "view-in-github",
        "colab_type": "text"
      },
      "source": [
        "<a href=\"https://colab.research.google.com/github/Arionnnn/Introduction-to-Computers/blob/main/0508.ipynb\" target=\"_parent\"><img src=\"https://colab.research.google.com/assets/colab-badge.svg\" alt=\"Open In Colab\"/></a>"
      ]
    },
    {
      "cell_type": "code",
      "execution_count": 2,
      "metadata": {
        "colab": {
          "base_uri": "https://localhost:8080/"
        },
        "id": "yIE2xw-WmuaD",
        "outputId": "e9778ad5-a246-4ef4-c5c0-5960d807fb41"
      },
      "outputs": [
        {
          "output_type": "stream",
          "name": "stdout",
          "text": [
            "34\n",
            "體溫正常!\n"
          ]
        }
      ],
      "source": [
        "t=float(input())\n",
        "if t >= 37.5:\n",
        "  print(\"體溫過高!\")\n",
        "elif 37.4 < t <= 37:\n",
        "  print(\"體溫略高!\")\n",
        "elif 34<= t <=36.9:\n",
        "  print(\"體溫正常!\")\n",
        "elif t< 34:\n",
        "  print(\"體溫異常，請重新測量!\")\n"
      ]
    },
    {
      "cell_type": "code",
      "source": [
        "s = float(input())\n",
        "if s >= 90:\n",
        "  print(\"A\")\n",
        "elif 80 <= s <90:\n",
        "  print(\"B\")\n",
        "elif 70 <= s <80:\n",
        "  print(\"C\")\n",
        "elif 60 <= s <70:\n",
        "  print(\"D\")\n",
        "else:\n",
        "  print(\"E\")"
      ],
      "metadata": {
        "colab": {
          "base_uri": "https://localhost:8080/"
        },
        "id": "deeP35-dnzxR",
        "outputId": "ac069f30-4f67-4162-efcb-4eaf65786ded"
      },
      "execution_count": 4,
      "outputs": [
        {
          "output_type": "stream",
          "name": "stdout",
          "text": [
            "700\n",
            "A\n"
          ]
        }
      ]
    },
    {
      "cell_type": "code",
      "source": [
        "m = int(input())\n",
        "if m==3 or m==4 or m==5:\n",
        "  print(\"春天!\")\n",
        "elif m==6or m==7 or m==8:\n",
        "  print(\"夏天!\")\n",
        "elif m==9 or m==10 or m==11:\n",
        "  print(\"秋天!\")\n",
        "elif m==12 or m==1 or m==2:\n",
        "  print(\"冬天!\")\n",
        "else:\n",
        "  print(\"月份不再範圍內!\")"
      ],
      "metadata": {
        "colab": {
          "base_uri": "https://localhost:8080/"
        },
        "id": "AUCcvxuiogp4",
        "outputId": "127cf62b-ccbd-4865-deab-1622e571db75"
      },
      "execution_count": 8,
      "outputs": [
        {
          "output_type": "stream",
          "name": "stdout",
          "text": [
            "9\n",
            "秋天!\n"
          ]
        }
      ]
    },
    {
      "cell_type": "code",
      "source": [],
      "metadata": {
        "id": "2x39QRyxprb5"
      },
      "execution_count": null,
      "outputs": []
    }
  ]
}