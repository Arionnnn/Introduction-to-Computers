{
  "nbformat": 4,
  "nbformat_minor": 0,
  "metadata": {
    "colab": {
      "provenance": [],
      "authorship_tag": "ABX9TyNiZbYty2vPhPz11Gjzq96M",
      "include_colab_link": true
    },
    "kernelspec": {
      "name": "python3",
      "display_name": "Python 3"
    },
    "language_info": {
      "name": "python"
    }
  },
  "cells": [
    {
      "cell_type": "markdown",
      "metadata": {
        "id": "view-in-github",
        "colab_type": "text"
      },
      "source": [
        "<a href=\"https://colab.research.google.com/github/Arionnnn/Introduction-to-Computers/blob/main/0320.ipynb\" target=\"_parent\"><img src=\"https://colab.research.google.com/assets/colab-badge.svg\" alt=\"Open In Colab\"/></a>"
      ]
    },
    {
      "cell_type": "code",
      "execution_count": 2,
      "metadata": {
        "colab": {
          "base_uri": "https://localhost:8080/"
        },
        "id": "M4UVbhIncD_J",
        "outputId": "9c68876f-a12c-40f7-b64c-d493bedb9842"
      },
      "outputs": [
        {
          "output_type": "stream",
          "name": "stdout",
          "text": [
            "請輸入國文成績:20\n",
            "請輸入英文成績:30\n",
            "請輸入數學成績:40\n",
            "您的成績總分為:90\n"
          ]
        }
      ],
      "source": [
        "chinese = int(input(\"請輸入國文成績:\"))\n",
        "eng = int(input(\"請輸入英文成績:\"))\n",
        "math = int(input(\"請輸入數學成績:\"))\n",
        "all = str(chinese + eng + math)\n",
        "print(\"您的成績總分為:\"+all)"
      ]
    },
    {
      "cell_type": "code",
      "source": [
        "top = int(input(\"請輸入梯形上底長度:\"))\n",
        "down = int(input(\"請輸入梯形下底長度:\"))\n",
        "high = int(input(\"請輸入梯形的高度:\"))\n",
        "area = (top + down) * high /2\n",
        "print(\"上底長度為:\",end=' ')\n",
        "print(top,end=' ')\n",
        "print(\"下底長度為:\",end=' ')\n",
        "print(down,end=' ')\n",
        "print(\"高長度為:\",end=' ')\n",
        "print(high,end=' ')\n",
        "print(\"梯形面積為:\",end=' ')\n",
        "print(area,end=' ')\n"
      ],
      "metadata": {
        "colab": {
          "base_uri": "https://localhost:8080/"
        },
        "id": "H9n_AmIDei1r",
        "outputId": "548ba282-90ca-42f1-f2ff-267f02877d90"
      },
      "execution_count": 3,
      "outputs": [
        {
          "output_type": "stream",
          "name": "stdout",
          "text": [
            "請輸入梯形上底長度:100\n",
            "請輸入梯形下底長度:200\n",
            "請輸入梯形的高度:300\n",
            "上底長度為: 100 下底長度為: 200 高長度為: 300 梯形面積為: 45000.0 "
          ]
        }
      ]
    },
    {
      "cell_type": "code",
      "source": [
        "hight = int(input(\"請輸入您的身高(cm):\"))\n",
        "weight = int(input(\"請輸入您的體重(kg):\"))\n",
        "bmi = weight / ((hight/100)*(hight/100))\n",
        "print(\"身高:\",end=' ')\n",
        "print(hight,end=' ')\n",
        "print(\"體重:\",end=' ')\n",
        "print(top,end=' ')\n",
        "print(\"BMI值為:\",end=' ')\n",
        "print(bmi,end=' ')"
      ],
      "metadata": {
        "colab": {
          "base_uri": "https://localhost:8080/"
        },
        "id": "u4RO5Eo9htdB",
        "outputId": "0563e7db-d581-4940-bbca-b346c7b23c88"
      },
      "execution_count": 4,
      "outputs": [
        {
          "output_type": "stream",
          "name": "stdout",
          "text": [
            "請輸入您的身高(cm):50\n",
            "請輸入您的體重(kg):100\n",
            "身高: 50 體重: 100 BMI值為: 400.0 "
          ]
        }
      ]
    }
  ]
}