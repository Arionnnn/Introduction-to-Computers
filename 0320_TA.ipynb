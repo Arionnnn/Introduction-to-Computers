{
  "nbformat": 4,
  "nbformat_minor": 0,
  "metadata": {
    "colab": {
      "provenance": [],
      "authorship_tag": "ABX9TyP4HFrQiODjdrrvO8LTrk13",
      "include_colab_link": true
    },
    "kernelspec": {
      "name": "python3",
      "display_name": "Python 3"
    },
    "language_info": {
      "name": "python"
    }
  },
  "cells": [
    {
      "cell_type": "markdown",
      "metadata": {
        "id": "view-in-github",
        "colab_type": "text"
      },
      "source": [
        "<a href=\"https://colab.research.google.com/github/Arionnnn/Introduction-to-Computers/blob/main/0320_TA.ipynb\" target=\"_parent\"><img src=\"https://colab.research.google.com/assets/colab-badge.svg\" alt=\"Open In Colab\"/></a>"
      ]
    },
    {
      "cell_type": "code",
      "execution_count": 1,
      "metadata": {
        "colab": {
          "base_uri": "https://localhost:8080/"
        },
        "id": "0spWpmGduQ0r",
        "outputId": "e90784a6-ccfd-4636-e8ce-51f3a8da2036"
      },
      "outputs": [
        {
          "output_type": "stream",
          "name": "stdout",
          "text": [
            "1\n"
          ]
        }
      ],
      "source": [
        "a = 0\n",
        "a += 1\n",
        "print(a)"
      ]
    },
    {
      "cell_type": "code",
      "source": [
        "a = 1\n",
        "a *= 3\n",
        "print(a)"
      ],
      "metadata": {
        "colab": {
          "base_uri": "https://localhost:8080/"
        },
        "id": "seL15fnHuWeM",
        "outputId": "e59aa6f1-5e86-4ff1-c472-38b3a5d68663"
      },
      "execution_count": 2,
      "outputs": [
        {
          "output_type": "stream",
          "name": "stdout",
          "text": [
            "3\n"
          ]
        }
      ]
    },
    {
      "cell_type": "code",
      "source": [
        "x,y = 10, 20\n",
        "print(x,y)\n",
        "x,y = y,x\n",
        "print(x,y)"
      ],
      "metadata": {
        "colab": {
          "base_uri": "https://localhost:8080/"
        },
        "id": "g1ncppXNumMa",
        "outputId": "a6c4aa9d-d6fa-4216-bed5-3b750455a0e0"
      },
      "execution_count": 3,
      "outputs": [
        {
          "output_type": "stream",
          "name": "stdout",
          "text": [
            "10 20\n",
            "20 10\n"
          ]
        }
      ]
    },
    {
      "cell_type": "code",
      "source": [
        "y = 10 == 5\n",
        "print(y)\n",
        "y = 10 != 10\n",
        "print(y)"
      ],
      "metadata": {
        "colab": {
          "base_uri": "https://localhost:8080/"
        },
        "id": "ohFMIK0Ju5w3",
        "outputId": "24fa1c31-c69e-4da4-b402-af32ff67e359"
      },
      "execution_count": 4,
      "outputs": [
        {
          "output_type": "stream",
          "name": "stdout",
          "text": [
            "False\n",
            "False\n"
          ]
        }
      ]
    },
    {
      "cell_type": "code",
      "source": [
        "x = (10 > 8) and (20 > 10)\n",
        "print(x)"
      ],
      "metadata": {
        "colab": {
          "base_uri": "https://localhost:8080/"
        },
        "id": "bJonzkXpvoVo",
        "outputId": "a665a190-6f10-477c-e48f-e1ab3e9e3a50"
      },
      "execution_count": 5,
      "outputs": [
        {
          "output_type": "stream",
          "name": "stdout",
          "text": [
            "True\n"
          ]
        }
      ]
    },
    {
      "cell_type": "code",
      "source": [
        "x = (10 > 8) and (10 > 20)\n",
        "print(x)\n",
        "x = (10 < 8) and (10 < 20)\n",
        "print(x)"
      ],
      "metadata": {
        "colab": {
          "base_uri": "https://localhost:8080/"
        },
        "id": "-4pGaT5mv0cZ",
        "outputId": "2666ba97-7a56-4e80-a6e2-ce3dd01b8e1e"
      },
      "execution_count": 6,
      "outputs": [
        {
          "output_type": "stream",
          "name": "stdout",
          "text": [
            "False\n",
            "False\n"
          ]
        }
      ]
    },
    {
      "cell_type": "code",
      "source": [
        "x = (10 > 8) or (20 > 10)\n",
        "print(x)\n",
        "x = (10 < 8) or (10 > 20)\n",
        "print(x)"
      ],
      "metadata": {
        "colab": {
          "base_uri": "https://localhost:8080/"
        },
        "id": "VpJ8tBwDwEmm",
        "outputId": "d98786c7-c9d1-4c38-c410-fa08216fcead"
      },
      "execution_count": 7,
      "outputs": [
        {
          "output_type": "stream",
          "name": "stdout",
          "text": [
            "True\n",
            "False\n"
          ]
        }
      ]
    },
    {
      "cell_type": "code",
      "source": [
        "x = not (10 < 8)\n",
        "print(x)"
      ],
      "metadata": {
        "colab": {
          "base_uri": "https://localhost:8080/"
        },
        "id": "A7Lfri6YwWDA",
        "outputId": "366df5a0-2676-4eb3-bcd2-1967bfe262e4"
      },
      "execution_count": 8,
      "outputs": [
        {
          "output_type": "stream",
          "name": "stdout",
          "text": [
            "True\n"
          ]
        }
      ]
    },
    {
      "cell_type": "code",
      "source": [
        "x = not (10 > 8)\n",
        "print(x)"
      ],
      "metadata": {
        "colab": {
          "base_uri": "https://localhost:8080/"
        },
        "id": "HX4xEy8XwkTs",
        "outputId": "cc258eee-6aae-499c-b129-f52c12bc841c"
      },
      "execution_count": 9,
      "outputs": [
        {
          "output_type": "stream",
          "name": "stdout",
          "text": [
            "False\n"
          ]
        }
      ]
    },
    {
      "cell_type": "code",
      "source": [
        "import random\n",
        "random.random()\n",
        "print(random.randint(1,10))\n",
        "print(random.random())\n",
        "print(random.uniform(1.1,5.4))\n",
        "print(random.choice(\"Hello\"))\n",
        "print(random.randrange(1,100,2))"
      ],
      "metadata": {
        "colab": {
          "base_uri": "https://localhost:8080/"
        },
        "id": "4CF8ybfwwp36",
        "outputId": "66249276-8d01-48b3-f079-7aa52a725de8"
      },
      "execution_count": 11,
      "outputs": [
        {
          "output_type": "stream",
          "name": "stdout",
          "text": [
            "2\n",
            "0.7302662385798867\n",
            "5.345246439446846\n",
            "o\n",
            "71\n"
          ]
        }
      ]
    },
    {
      "cell_type": "code",
      "source": [
        "No = input(\"輸入您的學號:\")\n",
        "print(No)"
      ],
      "metadata": {
        "colab": {
          "base_uri": "https://localhost:8080/"
        },
        "id": "T1BNLkgRxtAS",
        "outputId": "4ea2f178-511f-4cce-f5a2-4bf401bcc828"
      },
      "execution_count": 12,
      "outputs": [
        {
          "output_type": "stream",
          "name": "stdout",
          "text": [
            "輸入您的學號:411417032\n",
            "411417032\n"
          ]
        }
      ]
    },
    {
      "cell_type": "code",
      "source": [
        "Name = input(\"輸入您的姓名:\")\n",
        "print(Name)"
      ],
      "metadata": {
        "colab": {
          "base_uri": "https://localhost:8080/"
        },
        "id": "rxipDwZhzjnN",
        "outputId": "bf67782d-f320-4934-b755-883fb491bec7"
      },
      "execution_count": 13,
      "outputs": [
        {
          "output_type": "stream",
          "name": "stdout",
          "text": [
            "輸入您的姓名:董兆恩\n",
            "董兆恩\n"
          ]
        }
      ]
    },
    {
      "cell_type": "code",
      "source": [
        "numbers = [1, 2, 3, 4, 5]\n",
        "print(sum(numbers))"
      ],
      "metadata": {
        "colab": {
          "base_uri": "https://localhost:8080/"
        },
        "id": "_DyHc2_BzulB",
        "outputId": "c27a389e-49f4-4a78-ae3f-3d0d8f638c6c"
      },
      "execution_count": 15,
      "outputs": [
        {
          "output_type": "stream",
          "name": "stdout",
          "text": [
            "15\n"
          ]
        }
      ]
    },
    {
      "cell_type": "code",
      "source": [
        "import random\n",
        "No = input(\"輸入您的學號:\")\n",
        "print(No)\n",
        "Name = input(\"輸入您的姓名:\")\n",
        "print(Name)\n",
        "print(random.randint(5,100))"
      ],
      "metadata": {
        "colab": {
          "base_uri": "https://localhost:8080/"
        },
        "id": "psL7dMCz0bdi",
        "outputId": "445bba10-e6d7-4ceb-b123-0c5aae21af1e"
      },
      "execution_count": 16,
      "outputs": [
        {
          "output_type": "stream",
          "name": "stdout",
          "text": [
            "輸入您的學號:411417032\n",
            "411417032\n",
            "輸入您的姓名:董兆恩\n",
            "董兆恩\n",
            "64\n"
          ]
        }
      ]
    }
  ]
}